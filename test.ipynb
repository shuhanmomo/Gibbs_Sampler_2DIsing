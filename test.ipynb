{
 "cells": [
  {
   "cell_type": "code",
   "execution_count": 1,
   "metadata": {},
   "outputs": [
    {
     "name": "stdout",
     "output_type": "stream",
     "text": [
      "[(0, 1), (2, 4), (1, 2), (0, 4), (3, 4), (0, 0), (0, 3), (2, 0), (1, 4), (3, 0), (0, 2), (2, 2), (1, 0), (3, 2)]\n",
      "[(0, 0), (0, 2)]\n"
     ]
    }
   ],
   "source": [
    "from graph_helpers import Ising2D,TreeSampler\n",
    "ising = Ising2D(N=5,theta=0.45)\n",
    "tree1,tree2 = ising.split_and_calculate_trees()\n",
    "print(tree1.get_V())\n",
    "print(tree1.get_neighbors((0,1)))"
   ]
  },
  {
   "cell_type": "code",
   "execution_count": 2,
   "metadata": {},
   "outputs": [
    {
     "name": "stdout",
     "output_type": "stream",
     "text": [
      "5\n"
     ]
    }
   ],
   "source": [
    "import numpy as np\n",
    "print(np.random.choice([-5,5],p=[0.5,0.5]))"
   ]
  },
  {
   "cell_type": "code",
   "execution_count": 3,
   "metadata": {},
   "outputs": [
    {
     "name": "stdout",
     "output_type": "stream",
     "text": [
      "{(3, 2): 1, (2, 2): 1, (1, 2): 1, (0, 2): 1, (0, 1): 1, (0, 0): 1, (1, 0): 1, (2, 0): -1, (3, 0): -1, (0, 3): 1, (0, 4): -1, (1, 4): 1, (2, 4): -1, (3, 4): 1}\n"
     ]
    }
   ],
   "source": [
    "tree_sampler = TreeSampler(tree1)\n",
    "x = tree_sampler.sample()\n",
    "print(x)"
   ]
  }
 ],
 "metadata": {
  "kernelspec": {
   "display_name": "thesis",
   "language": "python",
   "name": "python3"
  },
  "language_info": {
   "codemirror_mode": {
    "name": "ipython",
    "version": 3
   },
   "file_extension": ".py",
   "mimetype": "text/x-python",
   "name": "python",
   "nbconvert_exporter": "python",
   "pygments_lexer": "ipython3",
   "version": "3.8.18"
  }
 },
 "nbformat": 4,
 "nbformat_minor": 2
}
